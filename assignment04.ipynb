{
 "cells": [
  {
   "cell_type": "markdown",
   "metadata": {},
   "source": [
    "# Name : Jung-Hyun Lee\n",
    "# Student ID : 2018120206\n",
    "# link : https://github.com/JungHyun-L/DataMining"
   ]
  },
  {
   "cell_type": "code",
   "execution_count": 1,
   "metadata": {},
   "outputs": [],
   "source": [
    "import numpy as np\n",
    "import matplotlib.pyplot as plt\n",
    "from numpy import genfromtxt"
   ]
  },
  {
   "cell_type": "markdown",
   "metadata": {},
   "source": [
    "# computeDistance function"
   ]
  },
  {
   "cell_type": "code",
   "execution_count": 2,
   "metadata": {},
   "outputs": [],
   "source": [
    "def computeDistance(vecOne,vecTwo) : # 두 벡터간의 거리를 계산한다\n",
    "    return np.sqrt(np.sum((vecOne-vecTwo)**2))"
   ]
  },
  {
   "cell_type": "markdown",
   "metadata": {},
   "source": [
    "# initialiseLabel function"
   ]
  },
  {
   "cell_type": "code",
   "execution_count": 3,
   "metadata": {},
   "outputs": [],
   "source": [
    "def initialiseLabel(clusterCount,pointCount,dataFrame) : # random하게 labeling을 한다\n",
    "    np.random.choice(clusterCount,pointCount)\n",
    "    label = np.random.choice(clusterCount,pointCount)\n",
    "    df=np.column_stack((dataFrame,label))\n",
    "    return (df)"
   ]
  },
  {
   "cell_type": "markdown",
   "metadata": {},
   "source": [
    "# computeCentroid function"
   ]
  },
  {
   "cell_type": "code",
   "execution_count": 4,
   "metadata": {},
   "outputs": [],
   "source": [
    "def computeCentroid(dataFrame,clusterCount) : # 중심값을 계산하여 데이터 프레임으로 반환한다\n",
    "    totalCentroid = np.zeros((1,785))\n",
    "    for i in range(clusterCount):\n",
    "        centroid=np.mean(dataFrame[dataFrame[:,784]==i],axis=0)\n",
    "        recentroid = centroid.reshape(1,785)\n",
    "        totalCentroid = np.vstack([totalCentroid,recentroid])\n",
    "    totalCentroid = np.delete(totalCentroid,0,0)\n",
    "    return (totalCentroid)"
   ]
  },
  {
   "cell_type": "markdown",
   "metadata": {},
   "source": [
    "# assignLabel function"
   ]
  },
  {
   "cell_type": "code",
   "execution_count": 5,
   "metadata": {},
   "outputs": [],
   "source": [
    "def assignLabel(dataFrame,centroid,clusterCount,pointCount) : # 각 클러스터의 중심값과의 거리를 계산하여 labeling을 한다\n",
    "    for i in range(pointCount):\n",
    "        minDist=999999999999999999999; minIndex=-1;distance=0;\n",
    "        for k in range(clusterCount):\n",
    "            distance=computeDistance(dataFrame[i:i+1,:784],centroid[k:k+1,:784])\n",
    "            if distance<minDist:\n",
    "                minDist=distance;minIndex=k\n",
    "            dataFrame[i:i+1,784:785]=minIndex\n",
    "    return (dataFrame)\n",
    "        "
   ]
  },
  {
   "cell_type": "markdown",
   "metadata": {},
   "source": [
    "# computeEnergy function"
   ]
  },
  {
   "cell_type": "code",
   "execution_count": 6,
   "metadata": {},
   "outputs": [],
   "source": [
    "def computeEnergy(dataFrame,centroid,clusterCount) : # 각 중심값과의 거리 제곱 합으로 energy를 구한다\n",
    "    energy=0;distance=0;\n",
    "    for i in range(clusterCount):\n",
    "        idxData=dataFrame[dataFrame[:,784]==i]\n",
    "        rowCount=np.size(idxData,0)\n",
    "        for k in range(rowCount):\n",
    "            distance=computeDistance(idxData[k:k+1,:784],centroid[i:i+1,:784])\n",
    "            energy+=np.square(distance) \n",
    "    return (energy)"
   ]
  },
  {
   "cell_type": "markdown",
   "metadata": {},
   "source": [
    "# computeAccuracy function"
   ]
  },
  {
   "cell_type": "code",
   "execution_count": 7,
   "metadata": {},
   "outputs": [],
   "source": [
    "def computeAccuracy(dataFrame,trueLabels,clusterCount) : # 정확도를 구한다 \n",
    "    trueCounts=0\n",
    "    for i in range(clusterCount):\n",
    "        cluster=trueLabels[dataFrame[:,784]==i]\n",
    "        cluster=cluster.astype(int)\n",
    "        label=np.bincount(cluster).argmax()\n",
    "        \n",
    "        middleResult=sum(cluster[:]==label)/np.size(cluster,0)\n",
    "        trueCounts+=sum(cluster[:]==label)\n",
    "        \n",
    "    accuracy=trueCounts/np.size(dataFrame,0) # 맞은 갯수/전체 데이터\n",
    "    return (accuracy)"
   ]
  },
  {
   "cell_type": "markdown",
   "metadata": {},
   "source": [
    "# kmenasClustering function"
   ]
  },
  {
   "cell_type": "code",
   "execution_count": 8,
   "metadata": {},
   "outputs": [],
   "source": [
    "def kmenasClustering(dataFrame,trueLabels,centroid,clusterCount,pointCount) : # 앞서 만든 함수들을 토대로 k-means clustering을 수행한다 \n",
    "    i=1;finalEnergy=0;\n",
    "    energyArray=np.array([]);accuracyArray=np.array([])\n",
    "    while True:\n",
    "        print(\"%d 번째 에너지,정확도 출력: \"%i)\n",
    "        energy=computeEnergy(dataFrame,centroid,clusterCount)\n",
    "        accuracy=computeAccuracy(dataFrame,trueLabels,clusterCount)\n",
    "        accuracyArray=np.append(accuracyArray,accuracy)\n",
    "        energyArray=np.append(energyArray,energy)\n",
    "        print(energy)\n",
    "        print(accuracy)\n",
    "        if(energy==finalEnergy): # 이전에 계산한 energy와 같을 때까지 반복 수행\n",
    "            break\n",
    "        finalEnergy=energy\n",
    "        dataFrame=assignLabel(dataFrame,centroid,clusterCount,pointCount)\n",
    "        centroid=computeCentroid(dataFrame,clusterCount)\n",
    "        i+=1\n",
    "    return (dataFrame,accuracyArray,energyArray)"
   ]
  },
  {
   "cell_type": "markdown",
   "metadata": {},
   "source": [
    "# Reading mnist data set"
   ]
  },
  {
   "cell_type": "code",
   "execution_count": 9,
   "metadata": {},
   "outputs": [],
   "source": [
    "data = genfromtxt('mnist_test.csv', delimiter=',') # 'minist_test' csv파일을 불러온다"
   ]
  },
  {
   "cell_type": "code",
   "execution_count": 10,
   "metadata": {},
   "outputs": [],
   "source": [
    "trueLabels=data[:,0] # 진짜 label을 저장해 놓는다\n",
    "df=data[:,1:]\n",
    "\n",
    "df=initialiseLabel(10,10000,df)\n",
    "centroid = computeCentroid(df,10)\n",
    "\n",
    "numRows=np.size(df,0)"
   ]
  },
  {
   "cell_type": "markdown",
   "metadata": {},
   "source": [
    "# Energy, Accuracy per each iteration"
   ]
  },
  {
   "cell_type": "code",
   "execution_count": 11,
   "metadata": {},
   "outputs": [
    {
     "name": "stdout",
     "output_type": "stream",
     "text": [
      "1 번째 에너지,정확도 출력: \n",
      "34333930943.510155\n",
      "0.1198\n",
      "2 번째 에너지,정확도 출력: \n",
      "29130527792.413292\n",
      "0.3783\n",
      "3 번째 에너지,정확도 출력: \n",
      "26629894393.990734\n",
      "0.5315\n",
      "4 번째 에너지,정확도 출력: \n",
      "26069956534.25695\n",
      "0.5773\n",
      "5 번째 에너지,정확도 출력: \n",
      "25906931964.992706\n",
      "0.5885\n",
      "6 번째 에너지,정확도 출력: \n",
      "25816390833.62097\n",
      "0.5955\n",
      "7 번째 에너지,정확도 출력: \n",
      "25758857890.277897\n",
      "0.5994\n",
      "8 번째 에너지,정확도 출력: \n",
      "25719909503.579777\n",
      "0.6019\n",
      "9 번째 에너지,정확도 출력: \n",
      "25686072865.53102\n",
      "0.6029\n",
      "10 번째 에너지,정확도 출력: \n",
      "25653524772.787647\n",
      "0.6038\n",
      "11 번째 에너지,정확도 출력: \n",
      "25625249144.62882\n",
      "0.609\n",
      "12 번째 에너지,정확도 출력: \n",
      "25597119616.22946\n",
      "0.6119\n",
      "13 번째 에너지,정확도 출력: \n",
      "25574142154.718204\n",
      "0.6135\n",
      "14 번째 에너지,정확도 출력: \n",
      "25558997544.683983\n",
      "0.6129\n",
      "15 번째 에너지,정확도 출력: \n",
      "25550323347.601048\n",
      "0.6123\n",
      "16 번째 에너지,정확도 출력: \n",
      "25544673067.87094\n",
      "0.614\n",
      "17 번째 에너지,정확도 출력: \n",
      "25540688421.91841\n",
      "0.6145\n",
      "18 번째 에너지,정확도 출력: \n",
      "25538247708.153534\n",
      "0.615\n",
      "19 번째 에너지,정확도 출력: \n",
      "25536773977.50287\n",
      "0.6149\n",
      "20 번째 에너지,정확도 출력: \n",
      "25535459972.111088\n",
      "0.6152\n",
      "21 번째 에너지,정확도 출력: \n",
      "25533914828.120785\n",
      "0.6152\n",
      "22 번째 에너지,정확도 출력: \n",
      "25532551148.347546\n",
      "0.6149\n",
      "23 번째 에너지,정확도 출력: \n",
      "25531104674.168873\n",
      "0.6147\n",
      "24 번째 에너지,정확도 출력: \n",
      "25529391410.959167\n",
      "0.6154\n",
      "25 번째 에너지,정확도 출력: \n",
      "25528289744.501503\n",
      "0.6146\n",
      "26 번째 에너지,정확도 출력: \n",
      "25527753650.14009\n",
      "0.6147\n",
      "27 번째 에너지,정확도 출력: \n",
      "25527010888.716442\n",
      "0.6148\n",
      "28 번째 에너지,정확도 출력: \n",
      "25526478579.297626\n",
      "0.6157\n",
      "29 번째 에너지,정확도 출력: \n",
      "25526172514.874443\n",
      "0.6153\n",
      "30 번째 에너지,정확도 출력: \n",
      "25525715117.641785\n",
      "0.6148\n",
      "31 번째 에너지,정확도 출력: \n",
      "25524817059.78719\n",
      "0.6148\n",
      "32 번째 에너지,정확도 출력: \n",
      "25524382583.730316\n",
      "0.6149\n",
      "33 번째 에너지,정확도 출력: \n",
      "25524021325.233837\n",
      "0.6149\n",
      "34 번째 에너지,정확도 출력: \n",
      "25523851021.923405\n",
      "0.6147\n",
      "35 번째 에너지,정확도 출력: \n",
      "25523793894.927464\n",
      "0.6146\n",
      "36 번째 에너지,정확도 출력: \n",
      "25523755220.150414\n",
      "0.6147\n",
      "37 번째 에너지,정확도 출력: \n",
      "25523747436.910145\n",
      "0.6146\n",
      "38 번째 에너지,정확도 출력: \n",
      "25523713698.337418\n",
      "0.6147\n",
      "39 번째 에너지,정확도 출력: \n",
      "25523615283.979546\n",
      "0.6147\n",
      "40 번째 에너지,정확도 출력: \n",
      "25523463310.15326\n",
      "0.6151\n",
      "41 번째 에너지,정확도 출력: \n",
      "25523292340.072487\n",
      "0.6152\n",
      "42 번째 에너지,정확도 출력: \n",
      "25523149279.329514\n",
      "0.6151\n",
      "43 번째 에너지,정확도 출력: \n",
      "25523037663.91251\n",
      "0.6153\n",
      "44 번째 에너지,정확도 출력: \n",
      "25522954245.87085\n",
      "0.6152\n",
      "45 번째 에너지,정확도 출력: \n",
      "25522893618.07091\n",
      "0.6153\n",
      "46 번째 에너지,정확도 출력: \n",
      "25522856165.758682\n",
      "0.6152\n",
      "47 번째 에너지,정확도 출력: \n",
      "25522824346.443485\n",
      "0.6151\n",
      "48 번째 에너지,정확도 출력: \n",
      "25522798206.631073\n",
      "0.6154\n",
      "49 번째 에너지,정확도 출력: \n",
      "25522771804.91764\n",
      "0.6155\n",
      "50 번째 에너지,정확도 출력: \n",
      "25522747478.04276\n",
      "0.6157\n",
      "51 번째 에너지,정확도 출력: \n",
      "25522722344.016087\n",
      "0.6158\n",
      "52 번째 에너지,정확도 출력: \n",
      "25522690811.671906\n",
      "0.616\n",
      "53 번째 에너지,정확도 출력: \n",
      "25522623622.493736\n",
      "0.6162\n",
      "54 번째 에너지,정확도 출력: \n",
      "25522529543.56341\n",
      "0.6166\n",
      "55 번째 에너지,정확도 출력: \n",
      "25522425949.578285\n",
      "0.6168\n",
      "56 번째 에너지,정확도 출력: \n",
      "25522416423.521168\n",
      "0.6166\n",
      "57 번째 에너지,정확도 출력: \n",
      "25522409463.2577\n",
      "0.6165\n",
      "58 번째 에너지,정확도 출력: \n",
      "25522397685.23838\n",
      "0.6166\n",
      "59 번째 에너지,정확도 출력: \n",
      "25522373521.97892\n",
      "0.6165\n",
      "60 번째 에너지,정확도 출력: \n",
      "25522340141.156292\n",
      "0.6166\n",
      "61 번째 에너지,정확도 출력: \n",
      "25522308654.909428\n",
      "0.6167\n",
      "62 번째 에너지,정확도 출력: \n",
      "25522231216.452705\n",
      "0.6168\n",
      "63 번째 에너지,정확도 출력: \n",
      "25522129017.402737\n",
      "0.6169\n",
      "64 번째 에너지,정확도 출력: \n",
      "25521986714.25688\n",
      "0.6169\n",
      "65 번째 에너지,정확도 출력: \n",
      "25521849017.751854\n",
      "0.6173\n",
      "66 번째 에너지,정확도 출력: \n",
      "25521702723.907505\n",
      "0.6176\n",
      "67 번째 에너지,정확도 출력: \n",
      "25521583594.18944\n",
      "0.6177\n",
      "68 번째 에너지,정확도 출력: \n",
      "25521493741.987293\n",
      "0.6183\n",
      "69 번째 에너지,정확도 출력: \n",
      "25521420396.48319\n",
      "0.6183\n",
      "70 번째 에너지,정확도 출력: \n",
      "25521341028.530502\n",
      "0.6181\n",
      "71 번째 에너지,정확도 출력: \n",
      "25521309993.9481\n",
      "0.618\n",
      "72 번째 에너지,정확도 출력: \n",
      "25521309993.9481\n",
      "0.618\n"
     ]
    }
   ],
   "source": [
    "finalDf,accuracy,energy=  kmenasClustering(df,trueLabels,centroid,10,numRows) # 정의한 함수를 통해 k-means clustering을 수행"
   ]
  },
  {
   "cell_type": "markdown",
   "metadata": {},
   "source": [
    "# graph of accuracy"
   ]
  },
  {
   "cell_type": "code",
   "execution_count": 12,
   "metadata": {},
   "outputs": [
    {
     "data": {
      "text/plain": [
       "[<matplotlib.lines.Line2D at 0x1fdd57549e8>]"
      ]
     },
     "execution_count": 12,
     "metadata": {},
     "output_type": "execute_result"
    },
    {
     "data": {
      "image/png": "[encoded data removed]",
      "text/plain": [
       "<Figure size 432x288 with 1 Axes>"
      ]
     },
     "metadata": {},
     "output_type": "display_data"
    }
   ],
   "source": [
    "plt.title('accuracy') # 정확도에 대한 그래프를 구한다 \n",
    "plt.plot(accuracy)"
   ]
  },
  {
   "cell_type": "markdown",
   "metadata": {},
   "source": [
    "# graph of energy"
   ]
  },
  {
   "cell_type": "code",
   "execution_count": 13,
   "metadata": {},
   "outputs": [
    {
     "data": {
      "text/plain": [
       "[<matplotlib.lines.Line2D at 0x1fdd50b3668>]"
      ]
     },
     "execution_count": 13,
     "metadata": {},
     "output_type": "execute_result"
    },
    {
     "data": {
      "image/png": "[encoded data removed]",
      "text/plain": [
       "<Figure size 432x288 with 1 Axes>"
      ]
     },
     "metadata": {},
     "output_type": "display_data"
    }
   ],
   "source": [
    "plt.title('energy') # 에너지에 대한 그래프를 구한다\n",
    "plt.plot(energy)"
   ]
  },
  {
   "cell_type": "markdown",
   "metadata": {},
   "source": [
    "# Initial ,Final Centroid images"
   ]
  },
  {
   "cell_type": "code",
   "execution_count": 14,
   "metadata": {},
   "outputs": [],
   "source": [
    "size_row    = 28    # height of the image\n",
    "size_col    = 28    # width of the image\n"
   ]
  },
  {
   "cell_type": "markdown",
   "metadata": {},
   "source": [
    "# initial centroid image "
   ]
  },
  {
   "cell_type": "code",
   "execution_count": 15,
   "metadata": {},
   "outputs": [
    {
     "data": {
      "image/png": "[encoded data removed]",
      "text/plain": [
       "<Figure size 432x288 with 10 Axes>"
      ]
     },
     "metadata": {},
     "output_type": "display_data"
    }
   ],
   "source": [
    "centroidImg=centroid[:,:784] \n",
    "centroidImgT=centroidImg.transpose()\n",
    "\n",
    "for i in range(10): # 맨처음 centroid의 이미지를 나타낸다\n",
    "    plt.subplot(2, 5, i+1)\n",
    "    plt.title(i)\n",
    "    plt.imshow(centroidImgT[:,i].reshape((size_row, size_col)), cmap='Greys', interpolation='None') \n",
    "    \n",
    "    frame   = plt.gca()\n",
    "    frame.axes.get_xaxis().set_visible(False)\n",
    "    frame.axes.get_yaxis().set_visible(False)"
   ]
  },
  {
   "cell_type": "markdown",
   "metadata": {},
   "source": [
    "# final centroid image"
   ]
  },
  {
   "cell_type": "code",
   "execution_count": 16,
   "metadata": {},
   "outputs": [
    {
     "data": {
      "image/png": "[encoded data removed]",
      "text/plain": [
       "<Figure size 432x288 with 10 Axes>"
      ]
     },
     "metadata": {},
     "output_type": "display_data"
    }
   ],
   "source": [
    "finalCentroid=computeCentroid(finalDf,10)\n",
    "finalCentroid\n",
    "\n",
    "for i in range(10):\n",
    "    cluster=trueLabels[finalDf[:,784]==i]\n",
    "    cluster=cluster.astype(int)\n",
    "    label=np.bincount(cluster).argmax()\n",
    "    finalCentroid[i,784]=label\n",
    "\n",
    "finalCentroid=finalCentroid[finalCentroid[:,784].argsort()]    \n",
    "\n",
    "finalCentroidImg=finalCentroid[:,:784]\n",
    "finalCentroidImgT=finalCentroidImg.transpose()\n",
    "\n",
    "# 몇 개의 숫자는 훈련이 제대로 되지 않아 이미지가 명확하지 않음\n",
    "for i in range(10): # k-means clustering을 수행한 후의 최종 centorid의 이미지를 출력한다\n",
    "    plt.subplot(2, 5, i+1)\n",
    "    plt.title(i)\n",
    "    plt.imshow(finalCentroidImgT[:,i].reshape((size_row, size_col)), cmap='Greys', interpolation='None') \n",
    "    \n",
    "    frame   = plt.gca()\n",
    "    frame.axes.get_xaxis().set_visible(False)\n",
    "    frame.axes.get_yaxis().set_visible(False)"
   ]
  }
 ],
 "metadata": {
  "kernelspec": {
   "display_name": "Python 3",
   "language": "python",
   "name": "python3"
  },
  "language_info": {
   "codemirror_mode": {
    "name": "ipython",
    "version": 3
   },
   "file_extension": ".py",
   "mimetype": "text/x-python",
   "name": "python",
   "nbconvert_exporter": "python",
   "pygments_lexer": "ipython3",
   "version": "3.6.5"
  }
 },
 "nbformat": 4,
 "nbformat_minor": 2
}
