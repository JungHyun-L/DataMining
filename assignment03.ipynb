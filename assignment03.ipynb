{
 "cells": [
  {
   "cell_type": "markdown",
   "metadata": {},
   "source": [
    "# Name : Jung-Hyun Lee\n",
    "# Student ID : 2018120206\n",
    "# link : https://github.com/JungHyun-L/DataMining"
   ]
  },
  {
   "cell_type": "code",
   "execution_count": 1,
   "metadata": {},
   "outputs": [],
   "source": [
    "import numpy as np\n",
    "import matplotlib.pyplot as plt\n",
    "import random"
   ]
  },
  {
   "cell_type": "markdown",
   "metadata": {},
   "source": [
    "# generatePointCluster function"
   ]
  },
  {
   "cell_type": "code",
   "execution_count": 2,
   "metadata": {},
   "outputs": [],
   "source": [
    "def generatePointCluster(pointCount) : # random하게 data point를 생성하는 함수\n",
    "    np.random.seed(5)\n",
    "    X = 2 * np.random.randn(pointCount, 1)\n",
    "    Y = 2 * np.random.randn(pointCount, 1) \n",
    "    df=np.column_stack((X,Y))\n",
    "    return (df)"
   ]
  },
  {
   "cell_type": "markdown",
   "metadata": {},
   "source": [
    "# computeDistance function"
   ]
  },
  {
   "cell_type": "code",
   "execution_count": 3,
   "metadata": {},
   "outputs": [],
   "source": [
    "def computeDistance(vecOne,vecTwo) : # 두 벡터간의 거리를 계산한다\n",
    "    return np.sqrt(np.sum((vecOne-vecTwo)**2))"
   ]
  },
  {
   "cell_type": "markdown",
   "metadata": {},
   "source": [
    "# initialiseLabel function"
   ]
  },
  {
   "cell_type": "code",
   "execution_count": 4,
   "metadata": {},
   "outputs": [],
   "source": [
    "def initialiseLabel(clusterCount,pointCount,dataFrame) : # random하게 labeling을 한다\n",
    "    np.random.choice(clusterCount,pointCount)\n",
    "    label = np.random.choice(clusterCount,pointCount)\n",
    "    df=np.column_stack((dataFrame,label))\n",
    "    return (df)"
   ]
  },
  {
   "cell_type": "markdown",
   "metadata": {},
   "source": [
    "# computeCentroid function"
   ]
  },
  {
   "cell_type": "code",
   "execution_count": 5,
   "metadata": {},
   "outputs": [],
   "source": [
    "def computeCentroid(dataFrame,clusterCount) : # 중심값을 계산하여 데이터 프레임으로 반환한다\n",
    "    totalCentroid = np.zeros((1,3))\n",
    "    for i in range(clusterCount):\n",
    "        centroid=np.mean(dataFrame[dataFrame[:,2]==i],axis=0)\n",
    "        recentroid = centroid.reshape(1,3)\n",
    "        totalCentroid = np.vstack([totalCentroid,recentroid])\n",
    "    totalCentroid = np.delete(totalCentroid,0,0)\n",
    "    return (totalCentroid)\n"
   ]
  },
  {
   "cell_type": "markdown",
   "metadata": {},
   "source": [
    "# assignLabel function"
   ]
  },
  {
   "cell_type": "code",
   "execution_count": 6,
   "metadata": {},
   "outputs": [],
   "source": [
    "def assignLabel(dataFrame,centroid,clusterCount,pointCount) : # 각 클러스터의 중심값과의 거리를 계산하여 labeling을 한다\n",
    "    for i in range(pointCount):\n",
    "        minDist=999; minIndex=-1;distance=0;\n",
    "        for k in range(clusterCount):\n",
    "            distance=computeDistance(dataFrame[i:i+1,:2],centroid[k:k+1,:2])\n",
    "            if distance<minDist:\n",
    "                minDist=distance;minIndex=k\n",
    "            dataFrame[i:i+1,2:3]=minIndex\n",
    "    return (dataFrame)\n",
    "        "
   ]
  },
  {
   "cell_type": "markdown",
   "metadata": {},
   "source": [
    "# computeEnergy function"
   ]
  },
  {
   "cell_type": "code",
   "execution_count": 7,
   "metadata": {},
   "outputs": [],
   "source": [
    "def computeEnergy(dataFrame,centroid,clusterCount) : # 각 중심값과의 거리 제곱 합으로 energy를 구한다\n",
    "    energy=0;distance=0;\n",
    "    for i in range(clusterCount):\n",
    "        idxData=dataFrame[dataFrame[:,2]==i]\n",
    "        rowCount=np.size(idxData,0)\n",
    "        for k in range(rowCount):\n",
    "            distance=computeDistance(idxData[k:k+1,:2],centroid[i:i+1,:2])\n",
    "            energy+=np.square(distance) \n",
    "    return (energy)"
   ]
  },
  {
   "cell_type": "markdown",
   "metadata": {},
   "source": [
    "# kmeansClustering function"
   ]
  },
  {
   "cell_type": "code",
   "execution_count": 8,
   "metadata": {},
   "outputs": [],
   "source": [
    "def kmenasClustering(dataFrame,centroid,clusterCount,pointCount) : # 앞서 만든 함수들을 토대로 k-means clustering을 수행한다 \n",
    "    i=1;finalEnergy=0;\n",
    "    while True:\n",
    "        print(\"%d 번째 에너지 출력: \"%i)\n",
    "        energy=computeEnergy(dataFrame,centroid,clusterCount)\n",
    "        print(energy)\n",
    "        if(energy<=finalEnergy): # 이전에 계산한 energy가 더 낮을 때까지 반복 수행\n",
    "            break\n",
    "        finalEnergy=energy\n",
    "        dataFrame=assignLabel(dataFrame,centroid,clusterCount,pointCount)\n",
    "        i+=1\n",
    "    return (dataFrame)"
   ]
  },
  {
   "cell_type": "markdown",
   "metadata": {},
   "source": [
    "# input data"
   ]
  },
  {
   "cell_type": "code",
   "execution_count": 9,
   "metadata": {},
   "outputs": [
    {
     "data": {
      "text/plain": [
       "[<matplotlib.lines.Line2D at 0x223655bc518>]"
      ]
     },
     "execution_count": 9,
     "metadata": {},
     "output_type": "execute_result"
    },
    {
     "data": {
      "image/png": "[encoded data removed]",
      "text/plain": [
       "<Figure size 432x288 with 1 Axes>"
      ]
     },
     "metadata": {},
     "output_type": "display_data"
    }
   ],
   "source": [
    "# cluster의 갯수는 3, data points는 10으로 설정\n",
    "df=generatePointCluster(10)\n",
    "\n",
    "plt.title('Initial data')\n",
    "plt.plot(df[:,0], df[:,1],marker=\"o\",color=\"black\",linestyle = 'None')"
   ]
  },
  {
   "cell_type": "markdown",
   "metadata": {},
   "source": [
    "# initial label"
   ]
  },
  {
   "cell_type": "code",
   "execution_count": 10,
   "metadata": {},
   "outputs": [
    {
     "data": {
      "image/png": "[encoded data removed]",
      "text/plain": [
       "<Figure size 432x288 with 1 Axes>"
      ]
     },
     "metadata": {},
     "output_type": "display_data"
    }
   ],
   "source": [
    "df=initialiseLabel(3,10,df)\n",
    "\n",
    "plt.title('initial label')\n",
    "for i in range(3):\n",
    "    newDf=df[df[:,2]==i]\n",
    "    plt.plot(newDf[:,0], newDf[:,1],marker=\"o\",color=\"rbgkm\"[i],linestyle = 'None')"
   ]
  },
  {
   "cell_type": "markdown",
   "metadata": {},
   "source": [
    "# inital centroid"
   ]
  },
  {
   "cell_type": "code",
   "execution_count": 11,
   "metadata": {},
   "outputs": [
    {
     "name": "stdout",
     "output_type": "stream",
     "text": [
      "inital centroid\n",
      "[[-0.48993572  0.09418329  0.        ]\n",
      " [ 0.04564331  0.84976554  1.        ]\n",
      " [ 1.98773901 -2.14425473  2.        ]]\n"
     ]
    },
    {
     "data": {
      "image/png": "[encoded data removed]",
      "text/plain": [
       "<Figure size 432x288 with 1 Axes>"
      ]
     },
     "metadata": {},
     "output_type": "display_data"
    }
   ],
   "source": [
    "print(\"inital centroid\")\n",
    "centroid = computeCentroid(df,3)\n",
    "print(centroid)\n",
    "\n",
    "plt.title('centroid')\n",
    "for i in range(3):\n",
    "    newDf=centroid[centroid[:,2]==i]\n",
    "    plt.plot(newDf[:,0], newDf[:,1],marker=\"o\",color=\"rbgkm\"[i],linestyle = 'None')"
   ]
  },
  {
   "cell_type": "markdown",
   "metadata": {},
   "source": [
    "# k-means clustering(+energy per each iteration)"
   ]
  },
  {
   "cell_type": "code",
   "execution_count": 12,
   "metadata": {},
   "outputs": [
    {
     "name": "stdout",
     "output_type": "stream",
     "text": [
      "1 번째 에너지 출력: \n",
      "61.940151990861416\n",
      "2 번째 에너지 출력: \n",
      "38.12548759326581\n"
     ]
    }
   ],
   "source": [
    "finalDf =  kmenasClustering(df,centroid,3,10)"
   ]
  },
  {
   "cell_type": "markdown",
   "metadata": {},
   "source": [
    "# Final label"
   ]
  },
  {
   "cell_type": "code",
   "execution_count": 13,
   "metadata": {},
   "outputs": [
    {
     "data": {
      "image/png": "[encoded data removed]",
      "text/plain": [
       "<Figure size 432x288 with 1 Axes>"
      ]
     },
     "metadata": {},
     "output_type": "display_data"
    }
   ],
   "source": [
    "plt.title('final label')\n",
    "for i in range(3):\n",
    "    newDf=finalDf[finalDf[:,2]==i]\n",
    "    plt.plot(newDf[:,0], newDf[:,1],marker=\"o\",color=\"rbgkm\"[i],linestyle = 'None')"
   ]
  },
  {
   "cell_type": "markdown",
   "metadata": {},
   "source": [
    "# Final centroid"
   ]
  },
  {
   "cell_type": "code",
   "execution_count": 14,
   "metadata": {},
   "outputs": [
    {
     "name": "stdout",
     "output_type": "stream",
     "text": [
      "inital centroid\n",
      "[[-0.6617403  -0.40975302  0.        ]\n",
      " [-1.04141558  2.12852057  1.        ]\n",
      " [ 1.90067714 -2.17109627  2.        ]]\n"
     ]
    },
    {
     "data": {
      "image/png": "[encoded data removed]",
      "text/plain": [
       "<Figure size 432x288 with 1 Axes>"
      ]
     },
     "metadata": {},
     "output_type": "display_data"
    }
   ],
   "source": [
    "finalCentroid = computeCentroid(finalDf,3)\n",
    "\n",
    "print(\"inital centroid\")\n",
    "print(finalCentroid)\n",
    "\n",
    "plt.title('final centroid')\n",
    "for i in range(3):\n",
    "    newDf=finalCentroid[finalCentroid[:,2]==i]\n",
    "    plt.plot(newDf[:,0], newDf[:,1],marker=\"o\",color=\"rbgkm\"[i],linestyle = 'None')"
   ]
  }
 ],
 "metadata": {
  "kernelspec": {
   "display_name": "Python 3",
   "language": "python",
   "name": "python3"
  },
  "language_info": {
   "codemirror_mode": {
    "name": "ipython",
    "version": 3
   },
   "file_extension": ".py",
   "mimetype": "text/x-python",
   "name": "python",
   "nbconvert_exporter": "python",
   "pygments_lexer": "ipython3",
   "version": "3.6.5"
  }
 },
 "nbformat": 4,
 "nbformat_minor": 2
}
